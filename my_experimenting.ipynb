{
 "cells": [
  {
   "cell_type": "code",
   "execution_count": null,
   "id": "693b10cc",
   "metadata": {},
   "outputs": [],
   "source": [
    "my_grades2 = [{\"English\": \"A\"}, {\"Math\": \"B+\"}, {\"Science\": \"C+\"}]\n",
    "my_grades2 = pd.DataFrame(my_grades2)\n",
    "my_grades2"
   ]
  },
  {
   "cell_type": "code",
   "execution_count": null,
   "id": "08724977",
   "metadata": {},
   "outputs": [],
   "source": [
    "{\"English\": \"A\", \"Math\": \"B+\", \"Science\": \"C+\"}\n",
    "my_grades3 = [{\"English\": \"A\", \"Math\": \"B+\", \"Science\": \"C+\"}]\n",
    "my_grades3 = pd.DataFrame(my_grades3)\n",
    "my_grades3"
   ]
  },
  {
   "cell_type": "code",
   "execution_count": null,
   "id": "e503da10",
   "metadata": {},
   "outputs": [],
   "source": [
    "my_grades3a = [{\"English\": \"A\", \"Math\": \"B+\", \"Science\": \"C+\"}, {\"Gym\": \"A\", \"Art\": \"B+\", \"Tech.\": \"C+\"}]\n",
    "my_grades3a = pd.DataFrame(my_grades3a)\n",
    "my_grades3a"
   ]
  },
  {
   "cell_type": "code",
   "execution_count": null,
   "id": "29789380",
   "metadata": {},
   "outputs": [],
   "source": [
    "English = [\"A\"]\n",
    "Math = [\"B+\"]\n",
    "Science = [\"C+\"]\n",
    "\n",
    "my_grades4 = {\"English\": English, \"Math\": Math, \"Science\": Science}\n",
    "my_grades4 = pd.DataFrame(my_grades4)\n",
    "my_grades4"
   ]
  },
  {
   "cell_type": "code",
   "execution_count": null,
   "id": "2c668c48",
   "metadata": {},
   "outputs": [],
   "source": []
  },
  {
   "cell_type": "code",
   "execution_count": null,
   "id": "7aac1688",
   "metadata": {},
   "outputs": [],
   "source": []
  },
  {
   "cell_type": "code",
   "execution_count": null,
   "id": "8b8e490a",
   "metadata": {},
   "outputs": [],
   "source": []
  }
 ],
 "metadata": {
  "kernelspec": {
   "display_name": "PythonData",
   "language": "python",
   "name": "pythondata"
  },
  "language_info": {
   "codemirror_mode": {
    "name": "ipython",
    "version": 3
   },
   "file_extension": ".py",
   "mimetype": "text/x-python",
   "name": "python",
   "nbconvert_exporter": "python",
   "pygments_lexer": "ipython3",
   "version": "3.7.10"
  }
 },
 "nbformat": 4,
 "nbformat_minor": 5
}
